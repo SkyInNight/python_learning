{
  "cells": [
    {
      "metadata": {},
      "cell_type": "markdown",
      "source": "# Python help指令\n"
    },
    {
      "metadata": {
        "trusted": false
      },
      "cell_type": "code",
      "source": "'''\n    python通过help(\"[object]\")指令可以查询Python中特定函数或关键字\n    通过help()进入帮助交互模式\n'''\n# 这里以Python中的输出函数为例子\nhelp(\"print\")",
      "execution_count": 1,
      "outputs": [
        {
          "name": "stdout",
          "output_type": "stream",
          "text": "Help on built-in function print in module builtins:\n\nprint(...)\n    print(value, ..., sep=' ', end='\\n', file=sys.stdout, flush=False)\n    \n    Prints the values to a stream, or to sys.stdout by default.\n    Optional keyword arguments:\n    file:  a file-like object (stream); defaults to the current sys.stdout.\n    sep:   string inserted between values, default a space.\n    end:   string appended after the last value, default a newline.\n    flush: whether to forcibly flush the stream.\n\n"
        }
      ]
    },
    {
      "metadata": {
        "trusted": false
      },
      "cell_type": "code",
      "source": "# 当然也可以是Python中的关键字\nhelp(\"string\")",
      "execution_count": 2,
      "outputs": [
        {
          "name": "stdout",
          "output_type": "stream",
          "text": "Help on module string:\n\nNAME\n    string - A collection of string constants.\n\nMODULE REFERENCE\n    https://docs.python.org/3.7/library/string\n    \n    The following documentation is automatically generated from the Python\n    source files.  It may be incomplete, incorrect or include features that\n    are considered implementation detail and may vary between Python\n    implementations.  When in doubt, consult the module reference at the\n    location listed above.\n\nDESCRIPTION\n    Public module variables:\n    \n    whitespace -- a string containing all ASCII whitespace\n    ascii_lowercase -- a string containing all ASCII lowercase letters\n    ascii_uppercase -- a string containing all ASCII uppercase letters\n    ascii_letters -- a string containing all ASCII letters\n    digits -- a string containing all ASCII decimal digits\n    hexdigits -- a string containing all ASCII hexadecimal digits\n    octdigits -- a string containing all ASCII octal digits\n    punctuation -- a string containing all ASCII punctuation characters\n    printable -- a string containing all ASCII characters considered printable\n\nCLASSES\n    builtins.object\n        Formatter\n        Template\n    \n    class Formatter(builtins.object)\n     |  Methods defined here:\n     |  \n     |  check_unused_args(self, used_args, args, kwargs)\n     |  \n     |  convert_field(self, value, conversion)\n     |  \n     |  format(*args, **kwargs)\n     |  \n     |  format_field(self, value, format_spec)\n     |  \n     |  get_field(self, field_name, args, kwargs)\n     |      # given a field_name, find the object it references.\n     |      #  field_name:   the field being looked up, e.g. \"0.name\"\n     |      #                 or \"lookup[3]\"\n     |      #  used_args:    a set of which args have been used\n     |      #  args, kwargs: as passed in to vformat\n     |  \n     |  get_value(self, key, args, kwargs)\n     |  \n     |  parse(self, format_string)\n     |      # returns an iterable that contains tuples of the form:\n     |      # (literal_text, field_name, format_spec, conversion)\n     |      # literal_text can be zero length\n     |      # field_name can be None, in which case there's no\n     |      #  object to format and output\n     |      # if field_name is not None, it is looked up, formatted\n     |      #  with format_spec and conversion and then used\n     |  \n     |  vformat(self, format_string, args, kwargs)\n     |  \n     |  ----------------------------------------------------------------------\n     |  Data descriptors defined here:\n     |  \n     |  __dict__\n     |      dictionary for instance variables (if defined)\n     |  \n     |  __weakref__\n     |      list of weak references to the object (if defined)\n    \n    class Template(builtins.object)\n     |  Template(template)\n     |  \n     |  A string class for supporting $-substitutions.\n     |  \n     |  Methods defined here:\n     |  \n     |  __init__(self, template)\n     |      Initialize self.  See help(type(self)) for accurate signature.\n     |  \n     |  safe_substitute(*args, **kws)\n     |  \n     |  substitute(*args, **kws)\n     |  \n     |  ----------------------------------------------------------------------\n     |  Data descriptors defined here:\n     |  \n     |  __dict__\n     |      dictionary for instance variables (if defined)\n     |  \n     |  __weakref__\n     |      list of weak references to the object (if defined)\n     |  \n     |  ----------------------------------------------------------------------\n     |  Data and other attributes defined here:\n     |  \n     |  braceidpattern = None\n     |  \n     |  delimiter = '$'\n     |  \n     |  flags = <RegexFlag.IGNORECASE: 2>\n     |  \n     |  idpattern = '(?a:[_a-z][_a-z0-9]*)'\n     |  \n     |  pattern = re.compile('\\n    \\\\$(?:\\n      (?P<escaped>\\\\$)...ced>(?a:[...\n\nFUNCTIONS\n    capwords(s, sep=None)\n        capwords(s [,sep]) -> string\n        \n        Split the argument into words using split, capitalize each\n        word using capitalize, and join the capitalized words using\n        join.  If the optional second argument sep is absent or None,\n        runs of whitespace characters are replaced by a single space\n        and leading and trailing whitespace are removed, otherwise\n        sep is used to split and join the words.\n\nDATA\n    __all__ = ['ascii_letters', 'ascii_lowercase', 'ascii_uppercase', 'cap...\n    ascii_letters = 'abcdefghijklmnopqrstuvwxyzABCDEFGHIJKLMNOPQRSTUVWXYZ'\n    ascii_lowercase = 'abcdefghijklmnopqrstuvwxyz'\n    ascii_uppercase = 'ABCDEFGHIJKLMNOPQRSTUVWXYZ'\n    digits = '0123456789'\n    hexdigits = '0123456789abcdefABCDEF'\n    octdigits = '01234567'\n    printable = '0123456789abcdefghijklmnopqrstuvwxyzABCDEFGHIJKLMNOPQRSTU...\n    punctuation = '!\"#$%&\\'()*+,-./:;<=>?@[\\\\]^_`{|}~'\n    whitespace = ' \\t\\n\\r\\x0b\\x0c'\n\nFILE\n    /usr/local/python/Python-3.7.6/lib/python3.7/string.py\n\n\n"
        }
      ]
    },
    {
      "metadata": {},
      "cell_type": "markdown",
      "source": "# Python 中的关键字"
    },
    {
      "metadata": {
        "trusted": false
      },
      "cell_type": "code",
      "source": "# 通过help()函数可以得到当前Python版本中定义的关键字，共35个！！\nhelp(\"keywords\")",
      "execution_count": 3,
      "outputs": [
        {
          "name": "stdout",
          "output_type": "stream",
          "text": "\nHere is a list of the Python keywords.  Enter any keyword to get more help.\n\nFalse               class               from                or\nNone                continue            global              pass\nTrue                def                 if                  raise\nand                 del                 import              return\nas                  elif                in                  try\nassert              else                is                  while\nasync               except              lambda              with\nawait               finally             nonlocal            yield\nbreak               for                 not                 \n\n"
        }
      ]
    },
    {
      "metadata": {},
      "cell_type": "markdown",
      "source": "## 比较常用的关键字用强调颜色标出  \n\n![](../img/python_keywords.png)"
    }
  ],
  "metadata": {
    "kernelspec": {
      "name": "python3",
      "display_name": "Python 3",
      "language": "python"
    },
    "language_info": {
      "mimetype": "text/x-python",
      "nbconvert_exporter": "python",
      "name": "python",
      "file_extension": ".py",
      "version": "3.5.4",
      "pygments_lexer": "ipython3",
      "codemirror_mode": {
        "version": 3,
        "name": "ipython"
      }
    },
    "toc": {
      "base_numbering": 1,
      "nav_menu": {},
      "number_sections": true,
      "sideBar": true,
      "skip_h1_title": false,
      "title_cell": "Table of Contents",
      "title_sidebar": "Contents",
      "toc_cell": false,
      "toc_position": {},
      "toc_section_display": true,
      "toc_window_display": false
    }
  },
  "nbformat": 4,
  "nbformat_minor": 4
}