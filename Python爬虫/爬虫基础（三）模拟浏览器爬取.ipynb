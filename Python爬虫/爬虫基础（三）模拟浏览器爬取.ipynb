{
  "cells": [
    {
      "metadata": {
        "collapsed": true
      },
      "cell_type": "markdown",
      "source": "# 模拟浏览器爬取数据"
    },
    {
      "metadata": {},
      "cell_type": "markdown",
      "source": "## 1. 导入测试模块框架selenium"
    },
    {
      "metadata": {},
      "cell_type": "markdown",
      "source": "\n### 1.1 下载selenium测试框架和依赖浏览器驱动包\n"
    },
    {
      "metadata": {
        "trusted": true
      },
      "cell_type": "code",
      "source": "!pip install selenium",
      "execution_count": null,
      "outputs": []
    },
    {
      "metadata": {
        "trusted": true
      },
      "cell_type": "code",
      "source": "!mkdir ~/Chrome\n!wget -P ~/Chrome https://download-installer.cdn.mozilla.net/pub/firefox/releases/73.0.1/linux-x86_64/zh-CN/firefox-73.0.1.tar.bz2 \n# !wget -P ~/Chrome/ http://chromedriver.storage.googleapis.com/81.0.4044.20/chromedriver_linux64.zip",
      "execution_count": null,
      "outputs": []
    },
    {
      "metadata": {},
      "cell_type": "markdown",
      "source": "### 1.2 解压谷歌浏览器驱动"
    },
    {
      "metadata": {
        "trusted": true
      },
      "cell_type": "code",
      "source": "!tar -xjvf ~/Chrome/firefox-73.0.1.tar.bz2 -C ~/Chrome\n# !unzip ~/Chrome/chromedriver_linux64.zip -d ~/Chrome",
      "execution_count": null,
      "outputs": []
    },
    {
      "metadata": {
        "trusted": true
      },
      "cell_type": "code",
      "source": "!wget -P ~/Chrome https://github.com/mozilla/geckodriver/releases/download/v0.25.0/geckodriver-v0.25.0-linux64.tar.gz\n!tar -zxvf ~/Chrome/geckodriver-v0.25.0-linux64.tar.gz -C ~/Chrome/firefox/",
      "execution_count": null,
      "outputs": []
    },
    {
      "metadata": {},
      "cell_type": "markdown",
      "source": "### 1.3 导入测试框架"
    },
    {
      "metadata": {
        "trusted": true
      },
      "cell_type": "code",
      "source": "import selenium\nfrom selenium import webdriver #测试框架模拟浏览器",
      "execution_count": null,
      "outputs": []
    },
    {
      "metadata": {},
      "cell_type": "markdown",
      "source": "### 1.4 嵌入正则表达式"
    },
    {
      "metadata": {
        "trusted": true
      },
      "cell_type": "code",
      "source": "import re\ndef regex_webside(text):\n    restr = r'<span class=\"total\"> (\\d+) </span>' # 正则表达式匹配\n    regex =  re.compile(restr,re.I) # 预编译，re.I 不分大小写\n    result = regex.findall(pagesource)\n    return result",
      "execution_count": null,
      "outputs": []
    },
    {
      "metadata": {},
      "cell_type": "markdown",
      "source": "### 1.5 调用selenium框架爬取网页信息"
    },
    {
      "metadata": {
        "trusted": true
      },
      "cell_type": "code",
      "source": "\n# 创建chrome参数对象\n# opt = selenium.webdriver.ChromeOptions()\nfrom selenium.webdriver.firefox.options import Options\noptions = Options()\noptions.add_argument('--headless')\ndef get_webside(keywords):\n    url = \"https://xiaoyuan.zhaopin.com/search/jn=4&kw=\"+ keywords\n    driver = selenium.webdriver.Firefox(options=options, # 传递无页面响应参数\n                                        firefox_binary=r'/home/nbuser/Chrome/firefox/firefox', # 传递火狐浏览器位置\n                                       executable_path = r'/home/nbuser/Chrome/firefox/geckodriver') # 调用火狐浏览器依赖驱动\n    driver.get(url)\n    pagesource = driver.page_source# 获取爬取页面信息\n    num = regex_webside(pagesource)\n    return num",
      "execution_count": null,
      "outputs": []
    },
    {
      "metadata": {
        "trusted": true
      },
      "cell_type": "code",
      "source": "get_webside(\"python\")",
      "execution_count": null,
      "outputs": []
    },
    {
      "metadata": {
        "trusted": true
      },
      "cell_type": "code",
      "source": "",
      "execution_count": null,
      "outputs": []
    },
    {
      "metadata": {},
      "cell_type": "markdown",
      "source": "# 2. 封装爬虫框架，爬取不同页面信息"
    },
    {
      "metadata": {},
      "cell_type": "markdown",
      "source": "## 2.1 封装正则表达式"
    },
    {
      "metadata": {
        "trusted": true
      },
      "cell_type": "code",
      "source": "import re\ndef regex_webside_find(restr,text,** args):\n    ''' 通过正则表达式查找网页信息\n        - param restr: 自定义要匹配的正则表达式\n        - param text: 要进行匹配的文本\n        - 返回查找出的全部子串\n    '''\n    regex =  re.compile(restr,re.I) # 预编译，re.I 不分大小写\n    result = regex.findall(pagesource)\n    if len(result) == 0:\n        return \"NULL\"\n    return result",
      "execution_count": null,
      "outputs": []
    },
    {
      "metadata": {},
      "cell_type": "markdown",
      "source": "## 2.2 封装爬虫框架"
    },
    {
      "metadata": {
        "trusted": true
      },
      "cell_type": "code",
      "source": "import selenium\nfrom selenium import webdriver #测试框架模拟浏览器# 创建chrome参数对象\nfrom selenium.webdriver.firefox.options import Options\n\ndef get_webside(url,data,**arg):\n    ''' 使用selenium模拟浏览器爬虫\n        - param url: 需要爬取的网页url\n        - param data: 可能需要传递的数据，以键值对的形式传入\n    '''\n    # 设置无页面响应浏览器     \n    options = Options()\n    options.add_argument('--headless')\n    # 遍历键值对，并将其加入进url尾部\n    for key in data:\n        url += \"&\" + key + \"=\" + data[key]\n        \n#     url = \"https://xiaoyuan.zhaopin.com/search/jn=4&kw=\"+ keywords\n    driver = selenium.webdriver.Firefox(options=options, # 传递无页面响应参数\n                                        firefox_binary=r'/home/nbuser/Chrome/firefox/firefox', # 传递火狐浏览器位置\n                                       executable_path = r'/home/nbuser/Chrome/firefox/geckodriver') # 调用火狐浏览器依赖驱动\n    driver.get(url)\n#     pagesource = driver.page_source# 获取爬取页面信息\n    return driver",
      "execution_count": null,
      "outputs": []
    },
    {
      "metadata": {},
      "cell_type": "markdown",
      "source": "## 2.3 爬取其他网页信息（马蜂窝获取页面景点名称）"
    },
    {
      "metadata": {
        "trusted": true
      },
      "cell_type": "code",
      "source": "def get_city_page_num(city):\n    ''' 通过传入城市名称获取当前城市显示的景点页数\n        - param city: 城市名称\n        - return 返回当前城市的景点页数\n    '''\n    regx = r'data-page=\"(\\d+)\" rel=\"nofollow\">末页</a>' #设置用于获取页数的正则表达式\n    url = \"http://www.mafengwo.cn/search/q.php?\" #马蜂窝访问旅游景点url入口\n    data = {\n        \"t\":\"pois\",\n        \"p\":\"1\",\n        \"q\":city # 设置要查询的城市参数\n    }\n    response = get_webside(url = url,data = data)\n    num = regex_webside_find(restr=regx,text = response.page_source)\n    if num == \"NULL\":\n        return \"信息获取失败\"\n    else:\n        return num[0]",
      "execution_count": null,
      "outputs": []
    },
    {
      "metadata": {
        "trusted": true
      },
      "cell_type": "code",
      "source": "city_list = ['衡阳','长沙','湘潭']\nfor city in city_list:\n    print city+\"的页数:\"+get_city_page_num(city)\n",
      "execution_count": null,
      "outputs": []
    }
  ],
  "metadata": {
    "kernelspec": {
      "name": "python2",
      "display_name": "Python 2",
      "language": "python"
    },
    "language_info": {
      "mimetype": "text/x-python",
      "nbconvert_exporter": "python",
      "name": "python",
      "pygments_lexer": "ipython2",
      "version": "2.7.15",
      "file_extension": ".py",
      "codemirror_mode": {
        "version": 2,
        "name": "ipython"
      }
    }
  },
  "nbformat": 4,
  "nbformat_minor": 2
}