{
  "cells": [
    {
      "metadata": {
        "collapsed": true
      },
      "cell_type": "markdown",
      "source": "# 正则表达式的使用"
    },
    {
      "metadata": {},
      "cell_type": "markdown",
      "source": "## 1. 导入正则表达式模块"
    },
    {
      "metadata": {
        "trusted": true
      },
      "cell_type": "code",
      "source": "#-*- coding: UTF-8 -*-\nimport re",
      "execution_count": 1,
      "outputs": []
    },
    {
      "metadata": {},
      "cell_type": "markdown",
      "source": "## 2. 使用正则表达式提取子串"
    },
    {
      "metadata": {
        "trusted": true
      },
      "cell_type": "code",
      "source": "test_str = r'<div data-num=\"131221\" class=\"allNumBox j_allNumBox\">' # 测试数据\nrestr = r'<div data-num=\"(\\d+)\" class=\"allNumBox j_allNumBox\">' # 正则表达式匹配\nregex =  re.compile(restr,re.I) # 预编译，re.I 不分大小写\nmylist = regex.findall(test_str) # 查找全部匹配串，并返回列表\nprint mylist",
      "execution_count": 2,
      "outputs": [
        {
          "output_type": "stream",
          "text": "['131221']\n",
          "name": "stdout"
        }
      ]
    },
    {
      "metadata": {},
      "cell_type": "markdown",
      "source": "## 3. 和网路爬虫结合，实现自定义值提取"
    },
    {
      "metadata": {
        "trusted": true
      },
      "cell_type": "code",
      "source": "import urllib2\ndef reg(text):\n    restr = r'<span class=\"total\"> (\\d+) </span>' # 正则表达式匹配\n    regex =  re.compile(restr,re.I) # 预编译，re.I 不分大小写\n    return regex.findall(text)\nheaders = { # 设置爬虫header为firefox表头\n    'User-Agent':r'Mozilla/5.0 (Windows NT 10.0; Win64; x64; rv:60.0) Gecko/20100101 Firefox/60.0',\n    \"Content-Type\":\"text/html; charset=utf-8\" # 设置返回html编码为utf-8\n}\n# 爬取智联招聘网\nurl = \"https://xiaoyuan.zhaopin.com/search/jn=4&kw=python\"\nconn = urllib2.Request(url,headers = headers)\nresponse = urllib2.urlopen(conn).read()\nnum = reg(response)\nprint num",
      "execution_count": 4,
      "outputs": [
        {
          "output_type": "stream",
          "text": "['533']\n",
          "name": "stdout"
        }
      ]
    }
  ],
  "metadata": {
    "kernelspec": {
      "name": "python2",
      "display_name": "Python 2",
      "language": "python"
    },
    "language_info": {
      "mimetype": "text/x-python",
      "nbconvert_exporter": "python",
      "name": "python",
      "pygments_lexer": "ipython2",
      "version": "2.7.15",
      "file_extension": ".py",
      "codemirror_mode": {
        "version": 2,
        "name": "ipython"
      }
    }
  },
  "nbformat": 4,
  "nbformat_minor": 2
}